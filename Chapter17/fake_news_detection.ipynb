{
 "cells": [
  {
   "cell_type": "markdown",
   "id": "b80af36d-be92-44bb-b84f-e7de7d7a038c",
   "metadata": {},
   "source": [
    "# NLP based - Fake News Classification"
   ]
  },
  {
   "cell_type": "markdown",
   "id": "a4dace9b-0ab5-474d-8f76-8e19508e1113",
   "metadata": {},
   "source": [
    "## About Dataset"
   ]
  },
  {
   "cell_type": "markdown",
   "id": "6690ff11-3286-4bb3-9ece-eee930c2bef1",
   "metadata": {},
   "source": [
    "- This dataset has been downloaded from kaggle: https://www.kaggle.com/datasets/saurabhshahane/fake-news-classification\n",
    "- Here is the link to lincense: https://creativecommons.org/licenses/by/4.0/"
   ]
  },
  {
   "cell_type": "markdown",
   "id": "659392fa-181b-4bba-a735-4ca6df8561b3",
   "metadata": {},
   "source": [
    "Note: We have already downloaded and decompressed the data in the same directory as notebook"
   ]
  },
  {
   "cell_type": "markdown",
   "id": "6cdd52bf-29ab-4851-9b21-ff0ad7814b84",
   "metadata": {},
   "source": [
    "## Importing useful libraries"
   ]
  },
  {
   "cell_type": "code",
   "execution_count": 38,
   "id": "a7e93550-5b0d-4558-9cd8-6c5fb7465f0a",
   "metadata": {},
   "outputs": [],
   "source": [
    "import numpy as np\n",
    "import pandas as pd\n",
    "import matplotlib.pyplot as plt\n",
    "from tqdm import tqdm_notebook\n",
    "\n",
    "from sklearn.model_selection import train_test_split\n",
    "from sklearn.metrics import classification_report, confusion_matrix\n",
    "from sklearn.feature_extraction.text import TfidfVectorizer\n",
    "from sklearn.ensemble import RandomForestClassifier\n",
    "from sklearn.metrics import roc_curve\n",
    "%matplotlib inline"
   ]
  },
  {
   "cell_type": "markdown",
   "id": "7370d2f4-0ca4-4784-93d4-6aef8ff03ba1",
   "metadata": {
    "tags": []
   },
   "source": [
    "## Reading and Verifying data"
   ]
  },
  {
   "cell_type": "code",
   "execution_count": 6,
   "id": "f961c383-f242-4d48-b71d-4ff67b514239",
   "metadata": {},
   "outputs": [
    {
     "name": "stdout",
     "output_type": "stream",
     "text": [
      "(72134, 4)\n"
     ]
    },
    {
     "data": {
      "text/html": [
       "<div>\n",
       "<style scoped>\n",
       "    .dataframe tbody tr th:only-of-type {\n",
       "        vertical-align: middle;\n",
       "    }\n",
       "\n",
       "    .dataframe tbody tr th {\n",
       "        vertical-align: top;\n",
       "    }\n",
       "\n",
       "    .dataframe thead th {\n",
       "        text-align: right;\n",
       "    }\n",
       "</style>\n",
       "<table border=\"1\" class=\"dataframe\">\n",
       "  <thead>\n",
       "    <tr style=\"text-align: right;\">\n",
       "      <th></th>\n",
       "      <th>Unnamed: 0</th>\n",
       "      <th>title</th>\n",
       "      <th>text</th>\n",
       "      <th>label</th>\n",
       "    </tr>\n",
       "  </thead>\n",
       "  <tbody>\n",
       "    <tr>\n",
       "      <th>0</th>\n",
       "      <td>0</td>\n",
       "      <td>LAW ENFORCEMENT ON HIGH ALERT Following Threat...</td>\n",
       "      <td>No comment is expected from Barack Obama Membe...</td>\n",
       "      <td>1</td>\n",
       "    </tr>\n",
       "    <tr>\n",
       "      <th>1</th>\n",
       "      <td>1</td>\n",
       "      <td>NaN</td>\n",
       "      <td>Did they post their votes for Hillary already?</td>\n",
       "      <td>1</td>\n",
       "    </tr>\n",
       "    <tr>\n",
       "      <th>2</th>\n",
       "      <td>2</td>\n",
       "      <td>UNBELIEVABLE! OBAMA’S ATTORNEY GENERAL SAYS MO...</td>\n",
       "      <td>Now, most of the demonstrators gathered last ...</td>\n",
       "      <td>1</td>\n",
       "    </tr>\n",
       "    <tr>\n",
       "      <th>3</th>\n",
       "      <td>3</td>\n",
       "      <td>Bobby Jindal, raised Hindu, uses story of Chri...</td>\n",
       "      <td>A dozen politically active pastors came here f...</td>\n",
       "      <td>0</td>\n",
       "    </tr>\n",
       "    <tr>\n",
       "      <th>4</th>\n",
       "      <td>4</td>\n",
       "      <td>SATAN 2: Russia unvelis an image of its terrif...</td>\n",
       "      <td>The RS-28 Sarmat missile, dubbed Satan 2, will...</td>\n",
       "      <td>1</td>\n",
       "    </tr>\n",
       "  </tbody>\n",
       "</table>\n",
       "</div>"
      ],
      "text/plain": [
       "   Unnamed: 0                                              title  \\\n",
       "0           0  LAW ENFORCEMENT ON HIGH ALERT Following Threat...   \n",
       "1           1                                                NaN   \n",
       "2           2  UNBELIEVABLE! OBAMA’S ATTORNEY GENERAL SAYS MO...   \n",
       "3           3  Bobby Jindal, raised Hindu, uses story of Chri...   \n",
       "4           4  SATAN 2: Russia unvelis an image of its terrif...   \n",
       "\n",
       "                                                text  label  \n",
       "0  No comment is expected from Barack Obama Membe...      1  \n",
       "1     Did they post their votes for Hillary already?      1  \n",
       "2   Now, most of the demonstrators gathered last ...      1  \n",
       "3  A dozen politically active pastors came here f...      0  \n",
       "4  The RS-28 Sarmat missile, dubbed Satan 2, will...      1  "
      ]
     },
     "execution_count": 6,
     "metadata": {},
     "output_type": "execute_result"
    }
   ],
   "source": [
    "news_df = pd.read_csv(\"WELFake_Dataset.csv\")\n",
    "print(news_df.shape)\n",
    "news_df.head()"
   ]
  },
  {
   "cell_type": "markdown",
   "id": "0d23313e-70af-441b-a2f1-66d604558e2c",
   "metadata": {},
   "source": [
    "### NULL value check"
   ]
  },
  {
   "cell_type": "code",
   "execution_count": 7,
   "id": "57e7c49f-6c1a-4f8a-9308-14450754d55e",
   "metadata": {},
   "outputs": [
    {
     "data": {
      "text/plain": [
       "Unnamed: 0      0\n",
       "title         558\n",
       "text           39\n",
       "label           0\n",
       "dtype: int64"
      ]
     },
     "execution_count": 7,
     "metadata": {},
     "output_type": "execute_result"
    }
   ],
   "source": [
    "news_df.isnull().sum()"
   ]
  },
  {
   "cell_type": "markdown",
   "id": "5bf6c788-28f7-4f67-af57-8989b64904c1",
   "metadata": {},
   "source": [
    "- Very small number of NULL values\n",
    "- Let's fill them with empty string value"
   ]
  },
  {
   "cell_type": "code",
   "execution_count": 8,
   "id": "48fbed82-c1b5-4699-a892-c5d4b0871070",
   "metadata": {},
   "outputs": [],
   "source": [
    "news_df.fillna('', inplace=True)"
   ]
  },
  {
   "cell_type": "markdown",
   "id": "84ec5c66-82fe-4d57-97ef-a35841ca3902",
   "metadata": {},
   "source": [
    "#### Creating a new column \"content\" with combined 'title' and 'text' that we will use for model training and predicitons"
   ]
  },
  {
   "cell_type": "code",
   "execution_count": 13,
   "id": "2c2da429-237f-4eee-8645-ef34655dfea8",
   "metadata": {},
   "outputs": [],
   "source": [
    "news_df['content'] = [x + ' ' + y for x,y in zip(news_df.title, news_df.text)]"
   ]
  },
  {
   "cell_type": "markdown",
   "id": "ca664296-4b53-47ad-b284-f833e53e8fa0",
   "metadata": {},
   "source": [
    "### cleaning and pre-processing text data for model:\n",
    "- remove any speacial characters and numbers from text\n",
    "- convert the text into lowercase\n",
    "- split the content by space to get list of words\n",
    "- remove stopwords: common english words that are often meaningless in a sentence\n",
    "- apply stemming: reduce words to their root words\n",
    "- now again join words with spaces in between to create text"
   ]
  },
  {
   "cell_type": "code",
   "execution_count": 28,
   "id": "749dfb2e-7c54-4bc9-9783-80f6703507a2",
   "metadata": {},
   "outputs": [],
   "source": [
    "import re\n",
    "from nltk.corpus import stopwords\n",
    "from nltk.stem.porter import PorterStemmer\n",
    "from sklearn.feature_extraction.text import TfidfVectorizer"
   ]
  },
  {
   "cell_type": "code",
   "execution_count": null,
   "id": "3224297b-34eb-4d0c-b393-6b59ba2ba141",
   "metadata": {},
   "outputs": [],
   "source": [
    "def clean_and_prepare_content(text):\n",
    "    text = re.sub('[^a-zA-Z]',' ', text)\n",
    "    text = text.lower()\n",
    "    text_words = text.split()\n",
    "    imp_text_words = [word for word in text_words if not word in stopwords.words('english')]\n",
    "    stemmed_words = [porter_stemmer.stem(word) for word in imp_text_words]\n",
    "    processed_text = ' '.join(stemmed_words)\n",
    "    return processed_text\n",
    "\n",
    "porter_stemmer = PorterStemmer()\n",
    "news_df['processed_content'] = news_df.content.apply(lambda content: clean_and_prepare_content(content))"
   ]
  },
  {
   "cell_type": "markdown",
   "id": "cc7cfa1c-9aa7-4579-991a-c0002a60c289",
   "metadata": {},
   "source": [
    "### Separating data and labels into two arrays"
   ]
  },
  {
   "cell_type": "code",
   "execution_count": 26,
   "id": "4c4682b6-84ed-42fe-ab68-f33ff9aff664",
   "metadata": {},
   "outputs": [
    {
     "name": "stdout",
     "output_type": "stream",
     "text": [
      "(72134,) (72134,)\n"
     ]
    }
   ],
   "source": [
    "X = news_df.processed_content.values\n",
    "y = news_df.label.values\n",
    "print(X.shape, y.shape)"
   ]
  },
  {
   "cell_type": "markdown",
   "id": "40d4ec9b-f7d9-46d1-9fd3-282fa96b5e3a",
   "metadata": {},
   "source": [
    "### Converting textual data to numberic format for model"
   ]
  },
  {
   "cell_type": "code",
   "execution_count": 29,
   "id": "451d31ea-5f09-4764-aee6-50cb094a9e72",
   "metadata": {},
   "outputs": [],
   "source": [
    "vectorizer = TfidfVectorizer()\n",
    "vectorizer.fit(X)\n",
    "X = vectorizer.transform(X)"
   ]
  },
  {
   "cell_type": "code",
   "execution_count": 30,
   "id": "010fcbba-cf48-47ad-9e9d-d57798ba0221",
   "metadata": {},
   "outputs": [
    {
     "name": "stdout",
     "output_type": "stream",
     "text": [
      "(72134, 162203)\n"
     ]
    }
   ],
   "source": [
    "print(X.shape)"
   ]
  },
  {
   "cell_type": "markdown",
   "id": "7fa8b5cf-0871-4f9f-8d87-872932cbb162",
   "metadata": {},
   "source": [
    "## Splitting data into train and test"
   ]
  },
  {
   "cell_type": "markdown",
   "id": "8eae4d1b-3da4-4c6d-aaf6-ce322f5199ff",
   "metadata": {},
   "source": [
    "- we will consider 80% data as training and rest 20% as test"
   ]
  },
  {
   "cell_type": "code",
   "execution_count": 31,
   "id": "f20fba74-0209-4337-a09c-0bcc12f6df31",
   "metadata": {},
   "outputs": [],
   "source": [
    "X_train, X_test, y_train, y_test = train_test_split(X, y, test_size = 0.2, stratify=y, random_state=42)"
   ]
  },
  {
   "cell_type": "markdown",
   "id": "c9d1719a-196f-43b6-87ec-e557bbc0e7f9",
   "metadata": {},
   "source": [
    "## Defining Random Forest Classifier"
   ]
  },
  {
   "cell_type": "code",
   "execution_count": 33,
   "id": "8ed0eb8f-4765-4301-b59f-23a77120c861",
   "metadata": {},
   "outputs": [],
   "source": [
    "rf_model = RandomForestClassifier()"
   ]
  },
  {
   "cell_type": "markdown",
   "id": "d577f298-65a1-4c9e-9607-4970111cf37f",
   "metadata": {},
   "source": [
    "## Training Model"
   ]
  },
  {
   "cell_type": "code",
   "execution_count": 34,
   "id": "16c3e073-9ec3-4a94-8e48-8fec6ad4964a",
   "metadata": {},
   "outputs": [
    {
     "data": {
      "text/plain": [
       "RandomForestClassifier()"
      ]
     },
     "execution_count": 34,
     "metadata": {},
     "output_type": "execute_result"
    }
   ],
   "source": [
    "rf_model.fit(X_train, y_train)"
   ]
  },
  {
   "cell_type": "markdown",
   "id": "8103db3e-8453-4f58-8f1b-e7b1a0226fea",
   "metadata": {},
   "source": [
    "## Predict on test data"
   ]
  },
  {
   "cell_type": "code",
   "execution_count": 35,
   "id": "789cf662-5657-4d90-9675-98ee4c83e907",
   "metadata": {},
   "outputs": [],
   "source": [
    "y_pred = rf_model.predict(X_test)\n",
    "y_proba = rf_model.predict_proba(X_test)"
   ]
  },
  {
   "cell_type": "markdown",
   "id": "ed568bb1-ac0c-4d1e-a6e2-e8dba04762d6",
   "metadata": {},
   "source": [
    "## Checking Results/Metrics on Test data"
   ]
  },
  {
   "cell_type": "markdown",
   "id": "8d0fdf29-1626-46c5-90bc-e84a97b71da9",
   "metadata": {},
   "source": [
    "### classification report"
   ]
  },
  {
   "cell_type": "code",
   "execution_count": 36,
   "id": "23a57497-66c5-4bd4-860a-4a5a45e8ecd1",
   "metadata": {},
   "outputs": [
    {
     "name": "stdout",
     "output_type": "stream",
     "text": [
      "              precision    recall  f1-score   support\n",
      "\n",
      "        Real       0.94      0.92      0.93      7006\n",
      "        Fake       0.93      0.94      0.94      7421\n",
      "\n",
      "    accuracy                           0.93     14427\n",
      "   macro avg       0.93      0.93      0.93     14427\n",
      "weighted avg       0.93      0.93      0.93     14427\n",
      "\n"
     ]
    }
   ],
   "source": [
    "print(\n",
    "    classification_report(\n",
    "        y_test,\n",
    "        y_pred,\n",
    "        target_names=['Real', 'Fake'],\n",
    "    )\n",
    ")"
   ]
  },
  {
   "cell_type": "code",
   "execution_count": 43,
   "id": "f10efe3e-c86c-4909-ae84-180cf3bdf3d1",
   "metadata": {},
   "outputs": [
    {
     "data": {
      "image/png": "[encoded data removed]",
      "text/plain": [
       "<Figure size 640x480 with 1 Axes>"
      ]
     },
     "metadata": {},
     "output_type": "display_data"
    }
   ],
   "source": [
    "def plot_roc_curve(y_true, y_prob):\n",
    "    \"\"\"\n",
    "    plots the roc curve based of the probabilities\n",
    "    \"\"\"\n",
    "    fpr, tpr, thresholds = roc_curve(y_true, y_prob)\n",
    "    plt.plot(fpr, tpr)\n",
    "    plt.xlabel('False Positive Rate')\n",
    "    plt.ylabel('True Positive Rate')\n",
    "\n",
    "plot_roc_curve(y_test, y_proba[:,1])"
   ]
  },
  {
   "cell_type": "markdown",
   "id": "3d5de7d5-299b-421f-82a6-7e4d8aaeb8fe",
   "metadata": {},
   "source": [
    "### confusion matrix"
   ]
  },
  {
   "cell_type": "code",
   "execution_count": 44,
   "id": "f7b28a3a-d642-498e-a921-fe98374eee13",
   "metadata": {},
   "outputs": [
    {
     "data": {
      "text/plain": [
       "array([[6455,  551],\n",
       "       [ 409, 7012]])"
      ]
     },
     "execution_count": 44,
     "metadata": {},
     "output_type": "execute_result"
    }
   ],
   "source": [
    "confusion_matrix(y_test, y_pred,)"
   ]
  },
  {
   "cell_type": "markdown",
   "id": "a19ea113-7fcf-429f-adde-11aa0ffca493",
   "metadata": {},
   "source": [
    "## Now putting this all together into a Vertex AI custom training JOB"
   ]
  },
  {
   "cell_type": "markdown",
   "id": "7d4a0da9-e2c6-45cf-8e29-4034359dc890",
   "metadata": {},
   "source": [
    "### Here are the steps\n",
    "- put data table into GCS or BigQuery (we will use GCS)\n",
    "- create a task.py file that:\n",
    "    - reads data from GCS\n",
    "    - does necessary data preparation\n",
    "    - trains the RF model\n",
    "    - saves model into GCS\n",
    "    - does prediciton on test set\n",
    "    - saves predictions to GCS\n",
    "- use a pre-built training image \n",
    "- launch vertex ai training\n",
    "- monitor the progress on Google Cloud Console UI"
   ]
  },
  {
   "cell_type": "code",
   "execution_count": 47,
   "id": "3f7a5b6c-2638-4272-b2b1-d554fa21e49c",
   "metadata": {},
   "outputs": [],
   "source": [
    "from google.cloud import aiplatform"
   ]
  },
  {
   "cell_type": "markdown",
   "id": "b441faad-4a53-436a-bba5-328c7d471cae",
   "metadata": {},
   "source": [
    "## Define Necessary Configurations"
   ]
  },
  {
   "cell_type": "code",
   "execution_count": 50,
   "id": "aab54238-bc7b-42ea-9118-e4339fa43d56",
   "metadata": {},
   "outputs": [],
   "source": [
    "PROJECT_ID='417812395597'\n",
    "REGION='us-west2'\n",
    "BUCKET_URI='gs://my-training-artifacts'\n",
    "DATA_LOCATION='gs://my-training-artifacts/WELFake_Dataset.csv'\n",
    "\n",
    "# pre-built training containers\n",
    "TRAIN_VERSION = \"tf-cpu.2-9\"\n",
    "TRAIN_IMAGE = \"us-docker.pkg.dev/vertex-ai/training/{}:latest\".format(TRAIN_VERSION)"
   ]
  },
  {
   "cell_type": "markdown",
   "id": "475f8450-b93e-435a-aaae-eea1155ad0ef",
   "metadata": {},
   "source": [
    "## Initialize Vertex AI SDK"
   ]
  },
  {
   "cell_type": "code",
   "execution_count": 48,
   "id": "5e44cddf-0987-45ae-86c3-c0142e3836db",
   "metadata": {},
   "outputs": [],
   "source": [
    "aiplatform.init(project=PROJECT_ID, location=REGION, staging_bucket=BUCKET_URI)"
   ]
  },
  {
   "cell_type": "markdown",
   "id": "be509948-1bcb-472d-8ead-54a257ad10f7",
   "metadata": {},
   "source": [
    "## Define task.py files with entire end-to-end code"
   ]
  },
  {
   "cell_type": "code",
   "execution_count": 58,
   "id": "a5ccd3d2-ab6c-464a-a2db-d005ca91eaf7",
   "metadata": {},
   "outputs": [
    {
     "name": "stdout",
     "output_type": "stream",
     "text": [
      "Overwriting task.py\n"
     ]
    }
   ],
   "source": [
    "%%writefile task.py\n",
    "import numpy as np\n",
    "import pandas as pd\n",
    "import pickle\n",
    "import matplotlib.pyplot as plt\n",
    "from tqdm import tqdm_notebook\n",
    "from google.cloud import storage\n",
    "\n",
    "from sklearn.model_selection import train_test_split\n",
    "from sklearn.metrics import classification_report, confusion_matrix\n",
    "from sklearn.feature_extraction.text import TfidfVectorizer\n",
    "from sklearn.ensemble import RandomForestClassifier\n",
    "from sklearn.metrics import roc_curve\n",
    "\n",
    "import re\n",
    "from nltk.corpus import stopwords\n",
    "from nltk.stem.porter import PorterStemmer\n",
    "from sklearn.feature_extraction.text import TfidfVectorizer\n",
    "\n",
    "import nltk\n",
    "nltk.download(\"stopwords\")\n",
    "\n",
    "BUCKET='my-training-artifacts'\n",
    "DATA_LOCATION='gs://my-training-artifacts/WELFake_Dataset.csv'\n",
    "\n",
    "# loading and preparing data\n",
    "news_df = pd.read_csv(DATA_LOCATION)\n",
    "news_df.fillna('', inplace=True)\n",
    "news_df['content'] = [x + ' ' + y for x,y in zip(news_df.title, news_df.text)]\n",
    "\n",
    "# cleaning and pre-processing data\n",
    "def clean_and_prepare_content(text):\n",
    "    text = re.sub('[^a-zA-Z]',' ', text)\n",
    "    text = text.lower()\n",
    "    text_words = text.split()\n",
    "    imp_text_words = [word for word in text_words if not word in stopwords.words('english')]\n",
    "    stemmed_words = [porter_stemmer.stem(word) for word in imp_text_words]\n",
    "    processed_text = ' '.join(stemmed_words)\n",
    "    return processed_text\n",
    "\n",
    "porter_stemmer = PorterStemmer()\n",
    "news_df['processed_content'] = news_df.content.apply(lambda content: clean_and_prepare_content(content))\n",
    "\n",
    "# separating data and labels\n",
    "X = news_df.processed_content.values\n",
    "y = news_df.label.values\n",
    "print(X.shape, y.shape)\n",
    "\n",
    "# converting data into numerical format\n",
    "vectorizer = TfidfVectorizer()\n",
    "vectorizer.fit(X)\n",
    "X = vectorizer.transform(X)\n",
    "\n",
    "# splitting data\n",
    "X_train, X_test, y_train, y_test = train_test_split(X, y, test_size = 0.2, stratify=y, random_state=42)\n",
    "\n",
    "# define and fit RF model\n",
    "rf_model = RandomForestClassifier()\n",
    "rf_model.fit(X_train, y_train)\n",
    "\n",
    "# saving model file to GCS\n",
    "storage_client = storage.Client()\n",
    "bucket = storage_client.bucket(BUCKET)\n",
    "blob = bucket.blob(\"rf_model.pkl\")\n",
    "with blob.open(mode=\"wb\") as file:\n",
    "    pickle.dump(rf_model, file)\n",
    "\n",
    "# predict on test set\n",
    "y_pred = rf_model.predict(X_test)\n",
    "y_proba = rf_model.predict_proba(X_test)\n",
    "\n",
    "# print classification report\n",
    "print(\n",
    "    classification_report(\n",
    "        y_test,\n",
    "        y_pred,\n",
    "        target_names=['Real', 'Fake'],\n",
    "    )\n",
    ")\n",
    "\n",
    "# print confusion matrix\n",
    "print(confusion_matrix(y_test, y_pred,))"
   ]
  },
  {
   "cell_type": "markdown",
   "id": "932d5384-d903-4660-a1ea-ee9ab6cbe26e",
   "metadata": {},
   "source": [
    "## Define and submit vertex ai training job"
   ]
  },
  {
   "cell_type": "code",
   "execution_count": 59,
   "id": "bca5ac03-c949-4201-afac-bb3d0648de7e",
   "metadata": {},
   "outputs": [
    {
     "name": "stdout",
     "output_type": "stream",
     "text": [
      "Training script copied to:\n",
      "gs://my-training-artifacts/aiplatform-2023-09-04-04:41:36.367-aiplatform_custom_trainer_script-0.1.tar.gz.\n",
      "Training Output directory:\n",
      "gs://my-training-artifacts/aiplatform-custom-training-2023-09-04-04:41:36.625 \n",
      "View Training:\n",
      "https://console.cloud.google.com/ai/platform/locations/us-west2/training/8404493159882555392?project=417812395597\n",
      "CustomTrainingJob projects/417812395597/locations/us-west2/trainingPipelines/8404493159882555392 current state:\n",
      "PipelineState.PIPELINE_STATE_RUNNING\n",
      "View backing custom job:\n",
      "https://console.cloud.google.com/ai/platform/locations/us-west2/training/6782775081564110848?project=417812395597\n",
      "CustomTrainingJob projects/417812395597/locations/us-west2/trainingPipelines/8404493159882555392 current state:\n",
      "PipelineState.PIPELINE_STATE_RUNNING\n",
      "CustomTrainingJob projects/417812395597/locations/us-west2/trainingPipelines/8404493159882555392 current state:\n",
      "PipelineState.PIPELINE_STATE_RUNNING\n",
      "CustomTrainingJob projects/417812395597/locations/us-west2/trainingPipelines/8404493159882555392 current state:\n",
      "PipelineState.PIPELINE_STATE_RUNNING\n",
      "CustomTrainingJob projects/417812395597/locations/us-west2/trainingPipelines/8404493159882555392 current state:\n",
      "PipelineState.PIPELINE_STATE_RUNNING\n",
      "CustomTrainingJob projects/417812395597/locations/us-west2/trainingPipelines/8404493159882555392 current state:\n",
      "PipelineState.PIPELINE_STATE_RUNNING\n",
      "CustomTrainingJob projects/417812395597/locations/us-west2/trainingPipelines/8404493159882555392 current state:\n",
      "PipelineState.PIPELINE_STATE_RUNNING\n",
      "CustomTrainingJob projects/417812395597/locations/us-west2/trainingPipelines/8404493159882555392 current state:\n",
      "PipelineState.PIPELINE_STATE_RUNNING\n",
      "CustomTrainingJob projects/417812395597/locations/us-west2/trainingPipelines/8404493159882555392 current state:\n",
      "PipelineState.PIPELINE_STATE_RUNNING\n",
      "CustomTrainingJob projects/417812395597/locations/us-west2/trainingPipelines/8404493159882555392 current state:\n",
      "PipelineState.PIPELINE_STATE_RUNNING\n",
      "CustomTrainingJob projects/417812395597/locations/us-west2/trainingPipelines/8404493159882555392 current state:\n",
      "PipelineState.PIPELINE_STATE_RUNNING\n",
      "CustomTrainingJob projects/417812395597/locations/us-west2/trainingPipelines/8404493159882555392 current state:\n",
      "PipelineState.PIPELINE_STATE_RUNNING\n",
      "CustomTrainingJob projects/417812395597/locations/us-west2/trainingPipelines/8404493159882555392 current state:\n",
      "PipelineState.PIPELINE_STATE_RUNNING\n",
      "CustomTrainingJob projects/417812395597/locations/us-west2/trainingPipelines/8404493159882555392 current state:\n",
      "PipelineState.PIPELINE_STATE_RUNNING\n",
      "CustomTrainingJob projects/417812395597/locations/us-west2/trainingPipelines/8404493159882555392 current state:\n",
      "PipelineState.PIPELINE_STATE_RUNNING\n",
      "CustomTrainingJob projects/417812395597/locations/us-west2/trainingPipelines/8404493159882555392 current state:\n",
      "PipelineState.PIPELINE_STATE_RUNNING\n",
      "CustomTrainingJob projects/417812395597/locations/us-west2/trainingPipelines/8404493159882555392 current state:\n",
      "PipelineState.PIPELINE_STATE_RUNNING\n",
      "CustomTrainingJob projects/417812395597/locations/us-west2/trainingPipelines/8404493159882555392 current state:\n",
      "PipelineState.PIPELINE_STATE_RUNNING\n",
      "CustomTrainingJob projects/417812395597/locations/us-west2/trainingPipelines/8404493159882555392 current state:\n",
      "PipelineState.PIPELINE_STATE_RUNNING\n",
      "CustomTrainingJob projects/417812395597/locations/us-west2/trainingPipelines/8404493159882555392 current state:\n",
      "PipelineState.PIPELINE_STATE_RUNNING\n",
      "CustomTrainingJob projects/417812395597/locations/us-west2/trainingPipelines/8404493159882555392 current state:\n",
      "PipelineState.PIPELINE_STATE_RUNNING\n",
      "CustomTrainingJob projects/417812395597/locations/us-west2/trainingPipelines/8404493159882555392 current state:\n",
      "PipelineState.PIPELINE_STATE_RUNNING\n",
      "CustomTrainingJob projects/417812395597/locations/us-west2/trainingPipelines/8404493159882555392 current state:\n",
      "PipelineState.PIPELINE_STATE_RUNNING\n",
      "CustomTrainingJob projects/417812395597/locations/us-west2/trainingPipelines/8404493159882555392 current state:\n",
      "PipelineState.PIPELINE_STATE_RUNNING\n",
      "CustomTrainingJob projects/417812395597/locations/us-west2/trainingPipelines/8404493159882555392 current state:\n",
      "PipelineState.PIPELINE_STATE_RUNNING\n",
      "CustomTrainingJob run completed. Resource name: projects/417812395597/locations/us-west2/trainingPipelines/8404493159882555392\n",
      "Training did not produce a Managed Model returning None. Training Pipeline projects/417812395597/locations/us-west2/trainingPipelines/8404493159882555392 is not configured to upload a Model. Create the Training Pipeline with model_serving_container_image_uri and model_display_name passed in. Ensure that your training script saves to model to os.environ['AIP_MODEL_DIR'].\n"
     ]
    }
   ],
   "source": [
    "job = aiplatform.CustomTrainingJob(\n",
    "    display_name=\"fake_news_detection\",\n",
    "    script_path=\"task.py\",\n",
    "    container_uri=TRAIN_IMAGE,\n",
    "    requirements=[\"nltk\"],\n",
    ")\n",
    "\n",
    "# Start the training job\n",
    "model = job.run(\n",
    "    machine_type = \"n1-standard-16\",\n",
    "    replica_count=1,\n",
    ")"
   ]
  },
  {
   "cell_type": "code",
   "execution_count": null,
   "id": "1e74fd91-b67f-4337-b93e-5b97b90d9926",
   "metadata": {},
   "outputs": [],
   "source": []
  }
 ],
 "metadata": {
  "environment": {
   "kernel": "python3",
   "name": "tf2-gpu.2-8.m103",
   "type": "gcloud",
   "uri": "gcr.io/deeplearning-platform-release/tf2-gpu.2-8:m103"
  },
  "kernelspec": {
   "display_name": "Python 3 (ipykernel)",
   "language": "python",
   "name": "python3"
  },
  "language_info": {
   "codemirror_mode": {
    "name": "ipython",
    "version": 3
   },
   "file_extension": ".py",
   "mimetype": "text/x-python",
   "name": "python",
   "nbconvert_exporter": "python",
   "pygments_lexer": "ipython3",
   "version": "3.7.12"
  }
 },
 "nbformat": 4,
 "nbformat_minor": 5
}
