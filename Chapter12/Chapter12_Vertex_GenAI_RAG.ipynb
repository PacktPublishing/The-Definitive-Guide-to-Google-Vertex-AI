{
 "cells": [
  {
   "cell_type": "markdown",
   "metadata": {},
   "source": [
    "# Vertex AI MLOps Book - Chapter 12 - Retrieval Augmented Generation(RAG)"
   ]
  },
  {
   "cell_type": "code",
   "execution_count": null,
   "metadata": {},
   "outputs": [],
   "source": [
    "\n",
    "# Supporting code for: Vertex AI ML Ops Code - Chapter 15 - Recommender Systems\n",
    "#Reference: \n",
    "\n",
    "# Licensed under the Apache License, Version 2.0 (the \"License\");\n",
    "# you may not use this file except in compliance with the License.\n",
    "# You may obtain a copy of the License at: https://www.apache.org/licenses/LICENSE-2.0\n",
    "#\n",
    "# Unless required by applicable law or agreed to in writing, software\n",
    "# distributed under the License is distributed on an \"AS IS\" BASIS,\n",
    "# WITHOUT WARRANTIES OR CONDITIONS OF ANY KIND, either express or implied.\n",
    "# See the License for the specific language governing permissions and\n",
    "# limitations under the License."
   ]
  },
  {
   "cell_type": "markdown",
   "metadata": {},
   "source": [
    "### Based on following sources:\n",
    "1. https://github.com/GoogleCloudPlatform/generative-ai/blob/main/search/retrieval-augmented-generation/examples/rag_google_documentation.ipynb"
   ]
  },
  {
   "cell_type": "markdown",
   "metadata": {},
   "source": [
    "#### **Objective:** \n",
    "In this notebook we will use Veretx AI GenAI models to demonstrate implementation of Retrieval Augmented Generation(RAG) to build a Question and Answering system"
   ]
  },
  {
   "cell_type": "markdown",
   "metadata": {},
   "source": [
    "#### **Key steps of RAG solution:**\n",
    "\n",
    "The RAG (Retrieval-Augmented Generation) system, at its core, involves three key steps:\n",
    "\n",
    "Document Retrieval: The first step is to retrieve relevant documents or pieces of information in response to a query. This is done using a retrieval model, such as the Dense Passage Retrieval (DPR) system, which sifts through a large database of texts to find content that is relevant to the input query.\n",
    "\n",
    "Information Integration: Once relevant documents are retrieved, the system integrates this information into the language model's context. This step involves processing the retrieved text and preparing it to be seamlessly incorporated into the generation process.\n",
    "\n",
    "Response Generation: The final step is generating a response using a sequence-to-sequence model, such as a variant of GPT or BERT. This model uses both the original query and the retrieved information to create a comprehensive, informed response.\n",
    "\n",
    "These three steps enable the RAG system to augment its response generation capabilities with external, real-time information, leading to more informed and accurate outputs."
   ]
  },
  {
   "cell_type": "markdown",
   "metadata": {},
   "source": [
    "### Set up and import dependencies"
   ]
  },
  {
   "cell_type": "code",
   "execution_count": null,
   "metadata": {
    "colab": {
     "base_uri": "https://localhost:8080/"
    },
    "id": "70lij66aJZoV",
    "outputId": "4341d94e-5fc2-48a9-9c1a-6ed29ae62b16"
   },
   "outputs": [],
   "source": [
    "#install dependencies\n",
    "!pip install google-cloud-aiplatform --upgrade\n",
    "!pip install google-cloud-documentai\n",
    "#!pip install google-cloud-storage\n"
   ]
  },
  {
   "cell_type": "code",
   "execution_count": null,
   "metadata": {
    "colab": {
     "base_uri": "https://localhost:8080/",
     "height": 1000
    },
    "id": "GeB5akYjIOnG",
    "outputId": "086e434c-35a9-478c-ca6d-394916ca91b9"
   },
   "outputs": [],
   "source": []
  },
  {
   "cell_type": "code",
   "execution_count": null,
   "metadata": {
    "id": "_tvj408TIDbd"
   },
   "outputs": [],
   "source": []
  },
  {
   "cell_type": "code",
   "execution_count": null,
   "metadata": {
    "id": "WWi0T7F7JQmj"
   },
   "outputs": [],
   "source": []
  },
  {
   "cell_type": "markdown",
   "metadata": {},
   "source": [
    "### Authentication "
   ]
  },
  {
   "cell_type": "code",
   "execution_count": null,
   "metadata": {},
   "outputs": [
    {
     "name": "stdout",
     "output_type": "stream",
     "text": [
      "\n",
      "You are running on a Google Compute Engine virtual machine.\n",
      "It is recommended that you use service accounts for authentication.\n",
      "\n",
      "You can run:\n",
      "\n",
      "  $ gcloud config set account `ACCOUNT`\n",
      "\n",
      "to switch accounts if necessary.\n",
      "\n",
      "Your credentials may be visible to others with access to this\n",
      "virtual machine. Are you sure you want to authenticate with\n",
      "your personal account?\n",
      "\n",
      "Do you want to continue (Y/n)?  ^C\n",
      "\n",
      "\n",
      "Command killed by keyboard interrupt\n",
      "\n"
     ]
    }
   ],
   "source": [
    "#Use if running notebook locally\n",
    "! gcloud auth login"
   ]
  },
  {
   "cell_type": "code",
   "execution_count": null,
   "metadata": {
    "id": "03otjfCP8Eh2"
   },
   "outputs": [],
   "source": [
    "##Run only if using Google Colab Notebooks\n",
    "#from google.colab import auth as google_auth\n",
    "#google_auth.authenticate_user()"
   ]
  },
  {
   "cell_type": "code",
   "execution_count": null,
   "metadata": {},
   "outputs": [],
   "source": [
    "### Define path to the pdf file"
   ]
  },
  {
   "cell_type": "code",
   "execution_count": null,
   "metadata": {},
   "outputs": [],
   "source": []
  },
  {
   "cell_type": "markdown",
   "metadata": {
    "id": "-h0ba4rmkpKW"
   },
   "source": [
    "### Import libraries"
   ]
  },
  {
   "cell_type": "code",
   "execution_count": null,
   "metadata": {
    "id": "YLUml_s7iqBc"
   },
   "outputs": [],
   "source": [
    "import requests\n",
    "import itertools\n",
    "import numpy as np\n",
    "import pandas as pd\n",
    "import numpy.linalg\n",
    "import vertexai\n",
    "\n",
    "from google.api_core import retry\n",
    "from vertexai.language_models import TextEmbeddingModel, TextGenerationModel\n",
    "from tqdm.auto import tqdm\n",
    "from bs4 import BeautifulSoup, Tag\n",
    "\n",
    "import PyPDF2\n",
    "\n",
    "tqdm.pandas()"
   ]
  },
  {
   "cell_type": "markdown",
   "metadata": {},
   "source": [
    "## Configure notebook environment\n",
    "\n",
    "### Set the following constants to reflect your environment"
   ]
  },
  {
   "cell_type": "code",
   "execution_count": null,
   "metadata": {
    "tags": []
   },
   "outputs": [],
   "source": [
    "# Define project information\n",
    "PROJECT_ID = \"jsb-alto\"  # @param {type:\"string\"}\n",
    "LOCATION = \"us-central1\"  # @param {type:\"string\"}\n",
    "\n",
    "# Initialize Vertex AI SDK\n",
    "vertexai.init(project=PROJECT_ID, location=LOCATION)"
   ]
  },
  {
   "cell_type": "code",
   "execution_count": null,
   "metadata": {},
   "outputs": [],
   "source": []
  },
  {
   "cell_type": "code",
   "execution_count": null,
   "metadata": {},
   "outputs": [],
   "source": [
    "file_path='./sample_data/goog-20221231.pdf'"
   ]
  },
  {
   "cell_type": "markdown",
   "metadata": {},
   "source": [
    "### Read pdf"
   ]
  },
  {
   "cell_type": "code",
   "execution_count": null,
   "metadata": {},
   "outputs": [
    {
     "name": "stdout",
     "output_type": "stream",
     "text": [
      "92\n"
     ]
    }
   ],
   "source": [
    "# importing required modules\n",
    "from PyPDF2 import PdfReader\n",
    "\n",
    "# creating a pdf reader object\n",
    "reader = PdfReader(file_path)\n",
    "\n",
    "# printing number of pages in pdf file\n",
    "page_count = len(reader.pages)\n",
    "print(len(reader.pages))\n",
    "\n",
    "full_text = \"Document extract\"\n",
    "\n",
    "\n",
    "for i in range(0,page_count):\n",
    "    \n",
    "    # getting a specific page from the pdf file\n",
    "    page = reader.pages[i]\n",
    "\n",
    "    # extracting text from page\n",
    "    text = page.extract_text()\n",
    "    full_text = full_text+text\n",
    "    #print(text)\n",
    "\n",
    "    \n"
   ]
  },
  {
   "cell_type": "code",
   "execution_count": null,
   "metadata": {},
   "outputs": [
    {
     "data": {
      "text/plain": [
       "'Document extract11/13/23, 10:41 PM goog-20221231\\nhttps://www.sec.gov/Archives/edgar/data/1652044/000165204423000016/goog-20221231.htm 1/92UNITED STATES\\nSECURITIES AND EXCHANGE COMMISSION\\nWashington, D.C. 20549\\n___________________________________________\\nFORM 10-K\\n___________________________________________\\n(Mark One)\\n☒ ANNUAL  REPORT PURSUANT T O SECTION 13 OR 15(d) OF THE SECURITIES EXCHANGE ACT OF 1934\\nFor the fiscal year ended December 31 , 2022\\nOR\\n☐ TRANSITION REPORT PURSUANT T O SECTION 13 OR 15(d) OF THE SECURITIES EXCHANGE ACT OF 1934\\nFor the transition period from              to             .\\nCommission file number: 001-37580\\n___________________________________________\\nAlphabet Inc.\\n(Exact name of registrant as specified in its charter)\\n___________________________________________\\nDelaware 61-1767919\\n(State or other jurisdiction of incorporation or organization) (I.R.S. Employer Identification No.)\\n1600 Amphitheatre Parkway\\nMountain V iew, CA 94043\\n(Address of principal executi'"
      ]
     },
     "execution_count": 45,
     "metadata": {},
     "output_type": "execute_result"
    }
   ],
   "source": [
    "full_text[0:1000]"
   ]
  },
  {
   "cell_type": "code",
   "execution_count": null,
   "metadata": {},
   "outputs": [],
   "source": []
  },
  {
   "cell_type": "markdown",
   "metadata": {
    "id": "r00cIHIVlj4E"
   },
   "source": [
    "## Create vector store\n",
    "\n",
    "Start by initializing the models"
   ]
  },
  {
   "cell_type": "code",
   "execution_count": null,
   "metadata": {
    "id": "D26RnssLln3U"
   },
   "outputs": [],
   "source": [
    "embeddings_model = TextEmbeddingModel.from_pretrained(\"textembedding-gecko@001\")\n",
    "text_model = TextGenerationModel.from_pretrained(\"text-bison@001\")"
   ]
  },
  {
   "cell_type": "markdown",
   "metadata": {
    "id": "eEYwgmPxlokS"
   },
   "source": [
    "Create some helper functions for vector similarity and chunking"
   ]
  },
  {
   "cell_type": "code",
   "execution_count": null,
   "metadata": {
    "id": "SStUcSPluhvw"
   },
   "outputs": [],
   "source": [
    "# Separates seq into multiple chunks in the specified size with the specified overlap\n",
    "def split_overlap(seq, size, overlap):\n",
    "    if len(seq) <= size:\n",
    "        return [seq]\n",
    "    return [\"\".join(x) for x in zip(*[seq[i :: size - overlap] for i in range(size)])]\n",
    "\n",
    "\n",
    "# Compute the cosine similarity of two vectors, wrap as returned function to make easier to use with Pandas\n",
    "def get_similarity_fn(query_vector):\n",
    "    def fn(row):\n",
    "        return np.dot(row, query_vector) / (\n",
    "            numpy.linalg.norm(row) * numpy.linalg.norm(query_vector)\n",
    "        )\n",
    "\n",
    "    return fn\n",
    "\n",
    "\n",
    "# Retrieve embeddings from the specified model with retry logic\n",
    "@retry.Retry(timeout=300.0)\n",
    "def get_embeddings(text):\n",
    "    return embeddings_model.get_embeddings([text])[0].values"
   ]
  },
  {
   "cell_type": "markdown",
   "metadata": {
    "id": "70aXFPhJmCM8"
   },
   "source": [
    "Create the vector store, we are using a Pandas DataFrame"
   ]
  },
  {
   "cell_type": "code",
   "execution_count": null,
   "metadata": {},
   "outputs": [],
   "source": [
    "def create_vector_store(texts, chunk_size, overlap):\n",
    "    vector_store = pd.DataFrame()\n",
    "    # Insert the individual texts into the vector store\n",
    "    vector_store[\"texts\"] = list(\n",
    "        itertools.chain(*[split_overlap(texts, chunk_size, overlap)])\n",
    "    )\n",
    "\n",
    "    # Create embeddings from those texts\n",
    "    vector_store[\"embeddings\"] = (\n",
    "        vector_store[\"texts\"].progress_apply(get_embeddings).apply(np.array)\n",
    "    )\n",
    "\n",
    "    return vector_store"
   ]
  },
  {
   "cell_type": "code",
   "execution_count": null,
   "metadata": {
    "id": "ifp-Y_kryXJ3"
   },
   "outputs": [
    {
     "data": {
      "application/vnd.jupyter.widget-view+json": {
       "model_id": "a205adb3299245a89c831b236fa6d571",
       "version_major": 2,
       "version_minor": 0
      },
      "text/plain": [
       "  0%|          | 0/942 [00:00<?, ?it/s]"
      ]
     },
     "metadata": {},
     "output_type": "display_data"
    }
   ],
   "source": [
    "CHUNK_SIZE = 400\n",
    "OVERLAP = 50\n",
    "\n",
    "vector_store = create_vector_store(full_text, CHUNK_SIZE, OVERLAP)"
   ]
  },
  {
   "cell_type": "code",
   "execution_count": null,
   "metadata": {
    "id": "ORlMIcEw0LVW"
   },
   "outputs": [
    {
     "data": {
      "text/html": [
       "<div>\n",
       "<style scoped>\n",
       "    .dataframe tbody tr th:only-of-type {\n",
       "        vertical-align: middle;\n",
       "    }\n",
       "\n",
       "    .dataframe tbody tr th {\n",
       "        vertical-align: top;\n",
       "    }\n",
       "\n",
       "    .dataframe thead th {\n",
       "        text-align: right;\n",
       "    }\n",
       "</style>\n",
       "<table border=\"1\" class=\"dataframe\">\n",
       "  <thead>\n",
       "    <tr style=\"text-align: right;\">\n",
       "      <th></th>\n",
       "      <th>texts</th>\n",
       "      <th>embeddings</th>\n",
       "    </tr>\n",
       "  </thead>\n",
       "  <tbody>\n",
       "    <tr>\n",
       "      <th>0</th>\n",
       "      <td>Document extract11/13/23, 10:41 PM goog-202212...</td>\n",
       "      <td>[-0.005290534812957048, 0.006954167038202286, ...</td>\n",
       "    </tr>\n",
       "    <tr>\n",
       "      <th>1</th>\n",
       "      <td>ECTION 13 OR 15(d) OF THE SECURITIES EXCHANGE ...</td>\n",
       "      <td>[-0.009700869210064411, -0.006571532227098942,...</td>\n",
       "    </tr>\n",
       "    <tr>\n",
       "      <th>2</th>\n",
       "      <td>\\n(Exact name of registrant as specified in it...</td>\n",
       "      <td>[-0.019034558907151222, -0.026617875322699547,...</td>\n",
       "    </tr>\n",
       "    <tr>\n",
       "      <th>3</th>\n",
       "      <td>gistrant's telephone number, including area co...</td>\n",
       "      <td>[0.003807228757068515, -0.0028854210395365953,...</td>\n",
       "    </tr>\n",
       "    <tr>\n",
       "      <th>4</th>\n",
       "      <td>ket LLC\\n(Nasdaq Global Select Market)\\nSecuri...</td>\n",
       "      <td>[0.0020814251620322466, 0.020781895145773888, ...</td>\n",
       "    </tr>\n",
       "  </tbody>\n",
       "</table>\n",
       "</div>"
      ],
      "text/plain": [
       "                                               texts  \\\n",
       "0  Document extract11/13/23, 10:41 PM goog-202212...   \n",
       "1  ECTION 13 OR 15(d) OF THE SECURITIES EXCHANGE ...   \n",
       "2  \\n(Exact name of registrant as specified in it...   \n",
       "3  gistrant's telephone number, including area co...   \n",
       "4  ket LLC\\n(Nasdaq Global Select Market)\\nSecuri...   \n",
       "\n",
       "                                          embeddings  \n",
       "0  [-0.005290534812957048, 0.006954167038202286, ...  \n",
       "1  [-0.009700869210064411, -0.006571532227098942,...  \n",
       "2  [-0.019034558907151222, -0.026617875322699547,...  \n",
       "3  [0.003807228757068515, -0.0028854210395365953,...  \n",
       "4  [0.0020814251620322466, 0.020781895145773888, ...  "
      ]
     },
     "execution_count": 51,
     "metadata": {},
     "output_type": "execute_result"
    }
   ],
   "source": [
    "vector_store.head()"
   ]
  },
  {
   "cell_type": "code",
   "execution_count": null,
   "metadata": {},
   "outputs": [],
   "source": []
  },
  {
   "cell_type": "markdown",
   "metadata": {
    "id": "GAJZc3mamQli"
   },
   "source": [
    "## Search the vector store and use for generation"
   ]
  },
  {
   "cell_type": "markdown",
   "metadata": {
    "id": "bdNIXBUimv01"
   },
   "source": [
    "If we send the question to the foundation model alone, it will hallucinate."
   ]
  },
  {
   "cell_type": "code",
   "execution_count": null,
   "metadata": {
    "id": "QEJKQz5ymw1f"
   },
   "outputs": [
    {
     "data": {
      "text/plain": [
       "\"Google's total revenue in 2019 was $161.86 billion.\""
      ]
     },
     "execution_count": 52,
     "metadata": {},
     "output_type": "execute_result"
    }
   ],
   "source": [
    "text_model.predict(\n",
    "    \"What was the total revenue of Google?\"\n",
    ").text"
   ]
  },
  {
   "cell_type": "markdown",
   "metadata": {
    "id": "mZbX1dkAnB6V"
   },
   "source": [
    "Let's solve this problem by retrieving texts from our vector store and telling the model to use them.\n",
    "\n",
    "Search the vector store for relevant texts to insert into the prompt by embedding the query and searching for similar vectors."
   ]
  },
  {
   "cell_type": "code",
   "execution_count": null,
   "metadata": {
    "id": "csMpD6498FXL"
   },
   "outputs": [],
   "source": [
    "def get_context(question, vector_store, num_docs):\n",
    "    # Embed the search query\n",
    "    query_vector = np.array(get_embeddings(question))\n",
    "\n",
    "    # Get similarity to all other vectors and sort, cut off at num_docs\n",
    "    top_matched = (\n",
    "        vector_store[\"embeddings\"]\n",
    "        .apply(get_similarity_fn(query_vector))\n",
    "        .sort_values(ascending=False)[:num_docs]\n",
    "        .index\n",
    "    )\n",
    "    top_matched_df = vector_store[vector_store.index.isin(top_matched)][[\"texts\"]]\n",
    "\n",
    "    # Return a string with the top matches\n",
    "    context = \" \".join(top_matched_df.texts.values)\n",
    "    return context"
   ]
  },
  {
   "cell_type": "markdown",
   "metadata": {
    "id": "W6kDwMEAmnfl"
   },
   "source": [
    "Create a prompt that includes the context and question. Instruct the LLM to only use the context provided to answer the question"
   ]
  },
  {
   "cell_type": "code",
   "execution_count": null,
   "metadata": {
    "id": "KfZnJF470esv"
   },
   "outputs": [],
   "source": [
    "def answer_question(question, vector_store, num_docs=20, print_prompt=False):\n",
    "    context = get_context(question, vector_store, num_docs)\n",
    "    qa_prompt = f\"\"\"Your mission is to answer questions based on a given context. Remember that before you give an answer, you must check to see if it complies with your mission.\n",
    "Context: ```{context}```\n",
    "Question: ***{question}***\n",
    "Before you give an answer, make sure it is only from information in the context. If the information is not in the context, just reply \"I don't know the answer to that. Format answer in a readable format\". Think step by step.\n",
    "Answer: \"\"\"\n",
    "    if print_prompt:\n",
    "        print(qa_prompt)\n",
    "    result = text_model.predict(qa_prompt, temperature=0.3)\n",
    " \n",
    "    return result.text"
   ]
  },
  {
   "cell_type": "code",
   "execution_count": null,
   "metadata": {},
   "outputs": [],
   "source": []
  },
  {
   "cell_type": "markdown",
   "metadata": {
    "id": "96kS0ZU-m6W6"
   },
   "source": [
    "Looking at the fully generated prompt, the context is embedded. Even though the input context is quite messy, the model can now answer factually."
   ]
  },
  {
   "cell_type": "code",
   "execution_count": null,
   "metadata": {
    "id": "90dMoKTr066y"
   },
   "outputs": [
    {
     "name": "stdout",
     "output_type": "stream",
     "text": [
      "Your mission is to answer questions based on a given context. Remember that before you give an answer, you must check to see if it complies with your mission.\n",
      "Context: ```the Notes to Consolidated Financial Statements included in Part II, Item 8 of this\n",
      "Annual Report on Form 10-K, which is incorporated herein by reference.\n",
      "ITEM 4. MINE SAFETY DISCLOSURES\n",
      "Not applicable.\n",
      "PART II\n",
      "ITEM 5. MARKET FOR REGISTRANT’S COMMON EQUITY, RELATED STOCKHOLDER MATTERS, AND ISSUER PURCHASES OF EQUITY SECURITIES\n",
      "As of October 2, 2015, Alphabet Inc. became the successor issuer of Goog tors unique to each set of revenues, as described below.\n",
      "Google Services\n",
      "Google Services revenues consist of Google advertising as well as Google other revenues.\n",
      "Google Advertising\n",
      "Google advertising revenues are comprised of the following:\n",
      "•Google Search & other, which includes revenues generated on Google search properties (including revenues from traffic generated by search distribution partner m traffic generated by search distribution partners who\n",
      "use Google.com as their default search in browsers, toolbars, etc.), and other Google owned and operated properties like Gmail, Google Maps, and Google Play;\n",
      "•YouTube ads, which includes revenues generated on YouTube properties; and\n",
      "•Google Network, which includes revenues generated on Google Network properties participating in AdMob, AdSense •Revenues were $282.8 billion, an increase of 10% year over year, primarily driven by an increase in Google Services revenues of $16.0 billion, or 7%, and an increase in\n",
      "Google Cloud revenues of $7.1 billion, or 37%.\n",
      "•Total constant currency revenues, which exclude the effect of hedging, increased 14% year over year.(1)\n",
      "(1)\n",
      "3011/13/23, 10:41 PM goog-20221231\n",
      "https://www.sec.gov/Archives/edgar/data g-20221231\n",
      "https://www.sec.gov/Archives/edgar/data/1652044/000165204423000016/goog-20221231.htm 32/92Table of Contents Alphabet Inc.\n",
      "•Cost of revenues was $126.2 billion, an increase of 14% year over year, primarily driven by an increase in other costs of revenues.\n",
      "•Operating expenses were $81.8 billion, an increase of 20% year over year, primarily driven by increases in compensation expenses due  000016/goog-20221231.htm 33/92Table of Contents Alphabet Inc.\n",
      "Financial Results\n",
      "Revenues\n",
      "The following table presents revenues by type (in millions):\n",
      "Year Ended December 31,\n",
      "2021 2022\n",
      "Google Search & other $ 148,951 $ 162,450 \n",
      "YouTube ads 28,845 29,243 \n",
      "Google Network 31,701 32,780 \n",
      "Google advertising 209,497 224,473 \n",
      "Google other 28,032 29,055 \n",
      "Google Services total 237,529 253,528 \n",
      "Google Cloud  ogle Services total 237,529 253,528 \n",
      "Google Cloud 19,206 26,280 \n",
      "Other Bets 753 1,068 \n",
      "Hedging gains (losses) 149 1,960 \n",
      "Total revenues $ 257,637 $ 282,836 \n",
      "Google Services\n",
      "Google advertising revenues\n",
      "Google Search & other\n",
      "Google Search & other revenues increased $13.5 billion from 2021 to 2022. The growth was driven by interrelated factors including increases in search queries resulting\n",
      "from grow 2044/000165204423000016/goog-20221231.htm 37/92Table of Contents Alphabet Inc.\n",
      "Google Cloud\n",
      "Google Cloud operating loss decreased $131 million from 2021 to 2022. The decrease in operating loss was primarily driven by growth in revenues, partially offset by an\n",
      "increase in compensation expenses.\n",
      "Other Bets\n",
      "Other Bets operating loss increased $802 million from 2021 to 2022. The increase in operating  s our cash flows (in millions):\n",
      " Year Ended December 31,\n",
      " 2021 2022\n",
      "Net cash provided by operating activities $ 91,652 $ 91,495 \n",
      "Net cash used in investing activities $ (35,523)$ (20,298)\n",
      "Net cash used in financing activities $ (61,362)$ (69,757)\n",
      "Cash Provided by Operating Activities\n",
      "Our largest source of cash provided by operations are advertising revenues generated by Google Search & other prope  revenues generated by Google Search & other properties, Google Network properties, and YouTube\n",
      "properties. Additionally, we generate cash through sales of apps and in-app purchases, and hardware; and licensing and service fees, including fees received for Google Cloud\n",
      "offerings and subscription-based products.\n",
      "Our primary uses of cash from operating activities include payments to distribution and 165204423000016/goog-20221231.htm 53/92Table of Contents Alphabet Inc.\n",
      "Alphabet Inc.\n",
      "NOTES TO CONSOLIDATED FINANCIAL STATEMENTS\n",
      "Note 1. Summary of Significant Accounting Policies\n",
      "Nature of Operations\n",
      "Google was incorporated in California in September 1998 and re-incorporated in the State of Delaware in August 2003. In 2015, we implemented a holding company\n",
      "reorganization, and as a result, Alphabet  company\n",
      "reorganization, and as a result, Alphabet Inc. (\"Alphabet\") became the successor issuer to Google.\n",
      "We generate revenues by delivering relevant, cost-effective online advertising; cloud-based solutions that provide enterprise customers with infrastructure and platform\n",
      "services as well as communication and collaboration tools; sales of other products and services, such as apps and in-app pu to our customers, and the collectibility of an amount that we expect in exchange for\n",
      "those goods or services is probable. Sales and other similar taxes are excluded from revenues.\n",
      "Advertising Revenues\n",
      "We generate advertising revenues primarily by delivering advertising on:\n",
      "•Google Search and other properties, including revenues from traffic generated by search distribution partners who use Google. current period presentation.\n",
      "5811/13/23, 10:41 PM goog-20221231\n",
      "https://www.sec.gov/Archives/edgar/data/1652044/000165204423000016/goog-20221231.htm 60/92Table of Contents Alphabet Inc.\n",
      "Note 2. Revenues\n",
      "Disaggregated Revenues\n",
      "The following table presents revenues disaggregated by type (in millions):\n",
      "Year Ended December 31,\n",
      "2020 2021 2022\n",
      "Google Search & other $ 104,062 $ 148,951 $ 162,450 \n",
      "YouTube rch & other $ 104,062 $ 148,951 $ 162,450 \n",
      "YouTube ads 19,772 28,845 29,243 \n",
      "Google Network 23,090 31,701 32,780 \n",
      "Google advertising 146,924 209,497 224,473 \n",
      "Google other 21,711 28,032 29,055 \n",
      "Google Services total 168,635 237,529 253,528 \n",
      "Google Cloud 13,059 19,206 26,280 \n",
      "Other Bets 657 753 1,068 \n",
      "Hedging gains (losses) 176 149 1,960 \n",
      "Total revenues $ 182,527 $ 257,637 $ 282,836 \n",
      "No individual c ents are received or due in advance of our performance, including amounts which are refundable. Deferred revenues\n",
      "primarily relate to Google Cloud and Google other. Total deferred revenue as of December 31, 2021 was $3.8 billion, of which $2.5 billion was recognized as revenues for the\n",
      "year ending December 31, 2022.(1)\n",
      "(1)\n",
      "(1)\n",
      "(1)\n",
      "5911/13/23, 10:41 PM goog-20221231\n",
      "https://www.sec.gov/Archives/edg 022 were as follows (in millions):\n",
      "Google Services Google Cloud Other Bets Total\n",
      "Balance as of December 31, 2020 $ 18,517 $ 1,957 $ 701 $ 21,175 \n",
      "Acquisitions 1,325 382 103 1,810 \n",
      "Foreign currency translation and other adjustments (16) (2) (11) (29)\n",
      "Balance as of December 31, 2021 19,826 2,337 793 22,956 \n",
      "Acquisitions 1,176 4,876 119 6,171 \n",
      "Foreign currency translation and other adjustments (155)  loud, and Other Bets:\n",
      "•Google Services includes products and services such as ads, Android, Chrome, hardware, Google Maps, Google Play, Search, and YouTube. Google Services generates\n",
      "revenues primarily from advertising; sales of apps and in-app purchases, and hardware; and fees received for subscription-based products such as YouTube Premium\n",
      "and YouTube TV.\n",
      "•Google Cloud includes infrastructure an ents information about our segments (in millions):\n",
      "Year Ended December 31,\n",
      "2020 2021 2022\n",
      "Revenues:\n",
      "Google Services $ 168,635 $ 237,529 $ 253,528 \n",
      "Google Cloud 13,059 19,206 26,280 \n",
      "Other Bets 657 753 1,068 \n",
      "Hedging gains (losses) 176 149 1,960 \n",
      "Total revenues $ 182,527 $ 257,637 $ 282,836 \n",
      "Operating income (loss):\n",
      "Google Services $ 54,606 $ 91,855 $ 86,572 \n",
      "Google Cloud (5,607) (3,099) (2,968)\n",
      "Ot Current Report on Form 8-K (File No. 001-\n",
      "37580)October 2, 2015\n",
      "10.04  Director Arrangements Agreement, dated October 2, 2015, between\n",
      "Google Inc. and the RegistrantCurrent Report on Form 8-K (File No. 001-\n",
      "37580)October 2, 2015\n",
      "10.05  Alphabet Inc. Deferred Compensation Plan Current Report on Form 8-K (File No. 001-\n",
      "37580)October 2, 2015\n",
      "10.06  Google Inc. 2004 Stock Plan, as amended Current R```\n",
      "Question: ***What was the total revenue of Google?***\n",
      "Before you give an answer, make sure it is only from information in the context. If the information is not in the context, just reply \"I don't know the answer to that. Format answer in a readable format\". Think step by step.\n",
      "Answer: \n"
     ]
    },
    {
     "data": {
      "text/plain": [
       "'282.8 billion was the total revenue of Google in 2022.'"
      ]
     },
     "execution_count": 55,
     "metadata": {},
     "output_type": "execute_result"
    }
   ],
   "source": [
    "answer_question(\n",
    "    \"What was the total revenue of Google?\",\n",
    "    vector_store,\n",
    "    print_prompt=True,\n",
    ")"
   ]
  },
  {
   "cell_type": "code",
   "execution_count": null,
   "metadata": {
    "id": "bmfEIvKmnmCb"
   },
   "outputs": [
    {
     "name": "stdout",
     "output_type": "stream",
     "text": [
      "Alphabet's key business lines are Google Services, Google Cloud, and Other Bets. The total revenue of Google Services was $237,529 million in 2022. The total revenue of Google Cloud was $19,206 million in 2022. The total revenue of Other Bets was $753 million in 2022.\n"
     ]
    }
   ],
   "source": [
    "answer = answer_question(\n",
    "    \"What was the total revenue of each of Alphabet's key business lines? \", vector_store\n",
    ")\n",
    "print(answer)"
   ]
  },
  {
   "cell_type": "code",
   "execution_count": null,
   "metadata": {},
   "outputs": [
    {
     "name": "stdout",
     "output_type": "stream",
     "text": [
      "Alphabet's key business lines are Google Services, Google Cloud, and Other Bets. Google Services revenue was $237,529 million in 2022. Google Cloud revenue was $19,206 million in 2022. Other Bets revenue was $753 million in 2022.\n"
     ]
    }
   ],
   "source": [
    "answer = answer_question(\n",
    "    \"List all of Alphabet's key business lines and their respective revenue for the quarter? \", vector_store\n",
    ")\n",
    "print(answer)"
   ]
  },
  {
   "cell_type": "code",
   "execution_count": null,
   "metadata": {},
   "outputs": [],
   "source": []
  }
 ],
 "metadata": {
  "colab": {
   "provenance": []
  },
  "environment": {
   "kernel": "python3",
   "name": "tf2-gpu.2-12.m110",
   "type": "gcloud",
   "uri": "gcr.io/deeplearning-platform-release/tf2-gpu.2-12:m110"
  },
  "kernelspec": {
   "display_name": "Python 3",
   "language": "python",
   "name": "python3"
  },
  "language_info": {
   "codemirror_mode": {
    "name": "ipython",
    "version": 3
   },
   "file_extension": ".py",
   "mimetype": "text/x-python",
   "name": "python",
   "nbconvert_exporter": "python",
   "pygments_lexer": "ipython3",
   "version": "3.10.12"
  }
 },
 "nbformat": 4,
 "nbformat_minor": 4
}
