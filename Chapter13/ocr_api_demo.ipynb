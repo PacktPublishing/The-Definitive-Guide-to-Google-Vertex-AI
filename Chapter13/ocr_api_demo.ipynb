{
 "cells": [
  {
   "cell_type": "markdown",
   "id": "d3e1d9df-cc07-41d7-9a62-560411fad197",
   "metadata": {},
   "source": [
    "## This notebook shows how to use Document AI OCR solution processors, with a python request."
   ]
  },
  {
   "cell_type": "markdown",
   "id": "d550697f-99f9-4c0b-a643-c01c4cabe2c2",
   "metadata": {
    "jupyter": {
     "outputs_hidden": true
    },
    "tags": []
   },
   "source": [
    "### Dependencies\n",
    "\n",
    "#### Before running this notebook, please make sure you have already installed the following libraries with correct versions.\n",
    "\n",
    "- google-cloud-documentai==2.15.0"
   ]
  },
  {
   "cell_type": "code",
   "execution_count": 3,
   "id": "a4575a51-67d2-45d1-805a-7832522f976e",
   "metadata": {},
   "outputs": [],
   "source": [
    "from process_document_sample import process_document_sample"
   ]
  },
  {
   "cell_type": "code",
   "execution_count": 4,
   "id": "b0172322-297d-41da-9266-436462ef60d0",
   "metadata": {},
   "outputs": [],
   "source": [
    "project_id = '41xxxxxxx97' # change here\n",
    "location = 'us' # Format is 'us' or 'eu'\n",
    "processor_id = 'bdfxxxxxxxxc7' # change here\n",
    "file_path = 'ocr_handwritten_example.jpeg'\n",
    "mime_type = 'image/jpeg' # Refer to https://cloud.google.com/document-ai/docs/file-types for supported file types\n",
    "field_mask = \"text,entities\"  # Optional. The fields to return in the Document object."
   ]
  },
  {
   "cell_type": "code",
   "execution_count": 6,
   "id": "a6094a55-0387-4cce-993a-cc45f1aca555",
   "metadata": {},
   "outputs": [
    {
     "name": "stdout",
     "output_type": "stream",
     "text": [
      "The document contains the following text:\n",
      "Happy Birthday jordan!\n",
      "I can't believe that\n",
      "now 18. I remember when\n",
      "you\n",
      "were\n",
      "at school, feels like\n",
      "yesterday.\n",
      "I'm very proud of\n",
      "also\n",
      "want to u\n",
      "for getting into\n",
      "are\n",
      "you\n",
      "Enjoy the day!\n",
      "Kartik\n",
      "and b\n",
      "you\n",
      "congratulate\n",
      "you\n",
      "UCL recently.\n",
      "Please let the rest of your\n",
      "family know that I \n",
      "say \n",
      "hi\n",
      "\n"
     ]
    }
   ],
   "source": [
    "process_document_sample(\n",
    "  project_id=project_id,\n",
    "  location=location,\n",
    "  processor_id=processor_id,\n",
    "  file_path=file_path,\n",
    "  mime_type=mime_type,\n",
    ")"
   ]
  },
  {
   "cell_type": "code",
   "execution_count": null,
   "id": "c3ee8201-1afe-4c48-b36a-d8aefe9ad5f3",
   "metadata": {},
   "outputs": [],
   "source": []
  }
 ],
 "metadata": {
  "environment": {
   "kernel": "python3",
   "name": "tf2-gpu.2-8.m103",
   "type": "gcloud",
   "uri": "gcr.io/deeplearning-platform-release/tf2-gpu.2-8:m103"
  },
  "kernelspec": {
   "display_name": "Python 3 (ipykernel)",
   "language": "python",
   "name": "python3"
  },
  "language_info": {
   "codemirror_mode": {
    "name": "ipython",
    "version": 3
   },
   "file_extension": ".py",
   "mimetype": "text/x-python",
   "name": "python",
   "nbconvert_exporter": "python",
   "pygments_lexer": "ipython3",
   "version": "3.7.12"
  }
 },
 "nbformat": 4,
 "nbformat_minor": 5
}
